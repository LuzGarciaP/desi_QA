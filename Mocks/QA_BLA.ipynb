{
 "cells": [
  {
   "cell_type": "markdown",
   "metadata": {},
   "source": [
    "# Quality Assesment Notebook for BALs in Mocks"
   ]
  },
  {
   "cell_type": "markdown",
   "metadata": {},
   "source": [
    "To-do for this notebook:\n",
    "    - plot redshift distribution of BAL in mocks and data\n",
    "    - plot relative redshift distribution of BAL with respect to quasars without\n",
    "    - plot distribution of balinicity index for mocks and data\n",
    "    - plot distribution of BAL on the sky for data and mocks\n",
    "    - plot different example spectrum for data and mocks\n",
    "    - effect on 3D cross and auto correlation"
   ]
  },
  {
   "cell_type": "markdown",
   "metadata": {},
   "source": [
    "Conclusion:\n",
    "    - Is there a way in the output file of quickquasar to identify quasars with or without BAL?"
   ]
  },
  {
   "cell_type": "code",
   "execution_count": 5,
   "metadata": {},
   "outputs": [],
   "source": [
    "import fitsio\n",
    "import scipy as sp\n",
    "import glob\n",
    "import healpy\n",
    "import matplotlib.pyplot as plt\n",
    "from matplotlib.pyplot import rcParams\n",
    "\n",
    "%matplotlib inline\n",
    "rcParams['figure.figsize'] = 10, 6\n",
    "rcParams['lines.linewidth'] = 4\n",
    "rcParams['axes.labelsize'] = 20\n",
    "rcParams['legend.fontsize'] = 20\n",
    "plt.rc('text',usetex=True)"
   ]
  },
  {
   "cell_type": "markdown",
   "metadata": {},
   "source": [
    "Path to the mocks catalogs and outputs"
   ]
  },
  {
   "cell_type": "code",
   "execution_count": 6,
   "metadata": {},
   "outputs": [],
   "source": [
    "mock = {}\n",
    "mock['mock_ver'] = 'v2.0'\n",
    "mock['quick_ver'] = 'quick-1.7'\n",
    "mock['mock_base'] = '/project/projectdirs/desi/mocks/lya_forest/london/'+mock['mock_ver']+'/'"
   ]
  },
  {
   "cell_type": "markdown",
   "metadata": {},
   "source": [
    "Path to the data catalogs and outputs"
   ]
  },
  {
   "cell_type": "code",
   "execution_count": 7,
   "metadata": {},
   "outputs": [],
   "source": [
    "data = {}\n",
    "data['Spectra'] = '/project/projectdirs/cosmo/data/sdss/dr14/eboss/spectro/redux/v5_10_0/'\n",
    "data['Catalogs'] = '/global/homes/h/hdumasde/Data/Catalogs/'\n",
    "data['QSO_catalog'] = '/global/homes/h/hdumasde/Data/Catalogs_for_MGII_studies/cat_QSO.fits'"
   ]
  },
  {
   "cell_type": "markdown",
   "metadata": {},
   "source": [
    "# __Compare catalogs__"
   ]
  },
  {
   "cell_type": "code",
   "execution_count": null,
   "metadata": {},
   "outputs": [],
   "source": []
  }
 ],
 "metadata": {
  "kernelspec": {
   "display_name": "picca_plots",
   "language": "python",
   "name": "picca_plots"
  },
  "language_info": {
   "codemirror_mode": {
    "name": "ipython",
    "version": 3
   },
   "file_extension": ".py",
   "mimetype": "text/x-python",
   "name": "python",
   "nbconvert_exporter": "python",
   "pygments_lexer": "ipython3",
   "version": "3.6.3"
  }
 },
 "nbformat": 4,
 "nbformat_minor": 2
}
