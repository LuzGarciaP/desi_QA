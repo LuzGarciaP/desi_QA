{
 "cells": [
  {
   "cell_type": "markdown",
   "metadata": {},
   "source": [
    "# Quality Assesment Notebook for metals in Mocks"
   ]
  },
  {
   "cell_type": "markdown",
   "metadata": {},
   "source": [
    "To-do for this notebook:\n",
    "    - plot the difference of transmissision with and without metals\n",
    "    - plot an example spectrum\n",
    "    - plot the difference of variance with and without metals\n",
    "    - plot the 1d auto-correlation of Lya, of Lyb, of CIV, compare to data\n",
    "    - plot the 1d cross-correlation Lya x Lyb, Lya x CIV, compare to data\n",
    "    - plot the 3d cross and auto correlation for mocks and data\n",
    "    - fit the metal absorption "
   ]
  },
  {
   "cell_type": "markdown",
   "metadata": {},
   "source": [
    "Conclusion:\n",
    "    - all of this should help update the values in `absorber_IGM` of here https://github.com/desihub/desisim/blob/master/py/desisim/lya_spectra.py"
   ]
  },
  {
   "cell_type": "code",
   "execution_count": null,
   "metadata": {},
   "outputs": [],
   "source": []
  }
 ],
 "metadata": {
  "kernelspec": {
   "display_name": "picca_plots",
   "language": "python",
   "name": "picca_plots"
  },
  "language_info": {
   "codemirror_mode": {
    "name": "ipython",
    "version": 3
   },
   "file_extension": ".py",
   "mimetype": "text/x-python",
   "name": "python",
   "nbconvert_exporter": "python",
   "pygments_lexer": "ipython3",
   "version": "3.6.3"
  }
 },
 "nbformat": 4,
 "nbformat_minor": 2
}
