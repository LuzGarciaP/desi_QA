{
 "cells": [
  {
   "cell_type": "markdown",
   "metadata": {},
   "source": [
    "# This notebook is for tests of the 1D $P_{F} (k)$ concerning resolution and noise"
   ]
  },
  {
   "cell_type": "markdown",
   "metadata": {},
   "source": [
    "Please follow the **[this notebook](QA_plots.ipynb)** notebook for general remarks on how to set up the environment at NERSC, **maybe use [the developer edition of the notebook server](jupyter-dev.nersc.gov)** as this runs on a high-memory cori node (and should even allow generating batch jobs on arbitrary nodes from within the notebook) vs. some special thing in the standard version."
   ]
  },
  {
   "cell_type": "markdown",
   "metadata": {},
   "source": [
    "## imports"
   ]
  },
  {
   "cell_type": "code",
   "execution_count": 177,
   "metadata": {},
   "outputs": [],
   "source": [
    "from pathlib import Path\n",
    "import subprocess\n",
    "import glob\n",
    "import sys\n",
    "import numpy as np\n",
    "import scipy as sp\n",
    "import scipy.stats as spstats\n",
    "import matplotlib.pyplot as plt\n",
    "import fitsio\n",
    "from astropy.io import fits   #this is currently only used for slicing the catalogue, maybe get rid of the dependency by restructuring\n",
    "import picca\n",
    "from picca.Pk1D import Pk1D\n",
    "from matplotlib import rc,rcParams"
   ]
  },
  {
   "cell_type": "markdown",
   "metadata": {},
   "source": [
    "## set plotting style options"
   ]
  },
  {
   "cell_type": "code",
   "execution_count": 178,
   "metadata": {},
   "outputs": [],
   "source": [
    "rcParams['text.usetex'] = False                      #setting this to true causes problems on NERSC because some files can't be created without sudo-rights\n",
    "#rcParams['text.latex.unicode'] = True\n",
    "rcParams['font.family'] = 'sans-serif'\n",
    "#rcParams['text.latex.preamble'] = [r'\\usepackage{sfmath} \\boldmath']\n",
    "\n",
    "%matplotlib inline"
   ]
  },
  {
   "cell_type": "markdown",
   "metadata": {},
   "source": [
    "## set flags and variables"
   ]
  },
  {
   "cell_type": "markdown",
   "metadata": {},
   "source": [
    "Stuff needed if only a subset of the full catalogue should be used (to speed things up for debugging)"
   ]
  },
  {
   "cell_type": "code",
   "execution_count": 179,
   "metadata": {},
   "outputs": [],
   "source": [
    "usesubset=True     #should a subset of the full catalogue be used (note that everything takes hours if this is set to False)\n",
    "rarange=2          #range in ra for subset\n",
    "decrange=2         #range in dec for subset"
   ]
  },
  {
   "cell_type": "markdown",
   "metadata": {},
   "source": [
    "Definition of variables needed to define the mocks"
   ]
  },
  {
   "cell_type": "code",
   "execution_count": 180,
   "metadata": {},
   "outputs": [],
   "source": [
    "mock_base = '/project/projectdirs/desi/mocks/lya_forest/london/v4.0.8/'\n",
    "quick_ver = 'quick-2.0'"
   ]
  },
  {
   "cell_type": "markdown",
   "metadata": {},
   "source": [
    "## File/Directory names"
   ]
  },
  {
   "cell_type": "markdown",
   "metadata": {},
   "source": [
    "Picca installation path and a string to activate the environment for subprocesses"
   ]
  },
  {
   "cell_type": "code",
   "execution_count": 181,
   "metadata": {},
   "outputs": [],
   "source": [
    "piccadir=Path('/'+'/'.join(Path(picca.__file__).parts[1:-3])+'/')\n",
    "activate_string='bash -c \"source activate picca_plots;'"
   ]
  },
  {
   "cell_type": "markdown",
   "metadata": {},
   "source": [
    "Catalogue file for the full catalogue"
   ]
  },
  {
   "cell_type": "code",
   "execution_count": 182,
   "metadata": {},
   "outputs": [],
   "source": [
    "catfile=Path('{}/{}/zcat_desi_drq.fits'.format(mock_base,quick_ver))"
   ]
  },
  {
   "cell_type": "markdown",
   "metadata": {},
   "source": [
    "Mock files"
   ]
  },
  {
   "cell_type": "code",
   "execution_count": 183,
   "metadata": {},
   "outputs": [],
   "source": [
    "indir=Path('{}/{}/spectra-16/'.format(mock_base,quick_ver))"
   ]
  },
  {
   "cell_type": "markdown",
   "metadata": {},
   "source": [
    "Output directories/files for the subset of mocks, the delta fields and Pk"
   ]
  },
  {
   "cell_type": "code",
   "execution_count": 184,
   "metadata": {},
   "outputs": [],
   "source": [
    "outcatfile=Path.home()/'catalogues_small/'/('_'.join(catfile.parts[-4:])[:-5]+'_reduced_rarange{}_decrange{}.fits'.format(rarange,decrange))\n",
    "outdir_delta=Path.home()/'res_ascii{}/'.format('_subset_rarange{}_decrange{}'.format(rarange,decrange) if usesubset else '')\n",
    "outdir_Pk=Path.home()/'Pk_fits{}/'.format('_subset_rarange{}_decrange{}'.format(rarange,decrange) if usesubset else '')"
   ]
  },
  {
   "cell_type": "markdown",
   "metadata": {},
   "source": [
    "Check that output dirs exist (else create)"
   ]
  },
  {
   "cell_type": "code",
   "execution_count": 185,
   "metadata": {},
   "outputs": [],
   "source": [
    "if usesubset and not outcatfile.parent.exists():\n",
    "    Path.mkdir(outcatfile.parent,parents=True)\n",
    "if not outdir_Pk.exists():\n",
    "    Path.mkdir(outdir_Pk,parents=True)\n",
    "if not outdir_delta.exists():\n",
    "    Path.mkdir(outdir_delta,parents=True)"
   ]
  },
  {
   "cell_type": "markdown",
   "metadata": {},
   "source": [
    "## Create a subset of the mock catalogue"
   ]
  },
  {
   "cell_type": "markdown",
   "metadata": {},
   "source": [
    "open the mock catalogue"
   ]
  },
  {
   "cell_type": "code",
   "execution_count": 186,
   "metadata": {},
   "outputs": [],
   "source": [
    "cat=fits.open(catfile)\n",
    "dec=cat[1].data['DEC']\n",
    "ra=cat[1].data['RA']"
   ]
  },
  {
   "cell_type": "markdown",
   "metadata": {},
   "source": [
    "define some range to use"
   ]
  },
  {
   "cell_type": "code",
   "execution_count": 187,
   "metadata": {},
   "outputs": [],
   "source": [
    "select=(np.abs(dec-40)<decrange)&(np.abs(ra-180)<rarange)"
   ]
  },
  {
   "cell_type": "markdown",
   "metadata": {},
   "source": [
    "slice the catalogue"
   ]
  },
  {
   "cell_type": "code",
   "execution_count": 188,
   "metadata": {},
   "outputs": [],
   "source": [
    "if usesubset:\n",
    "    cat[1].data=cat[1].data[select]"
   ]
  },
  {
   "cell_type": "markdown",
   "metadata": {},
   "source": [
    "write to a file"
   ]
  },
  {
   "cell_type": "code",
   "execution_count": 189,
   "metadata": {},
   "outputs": [
    {
     "name": "stdout",
     "output_type": "stream",
     "text": [
      "File exists, using existing file\n"
     ]
    }
   ],
   "source": [
    "if usesubset:\n",
    "    try:\n",
    "        cat.writeto(outcatfile)\n",
    "    except OSError:\n",
    "        print('File exists, using existing file')"
   ]
  },
  {
   "cell_type": "markdown",
   "metadata": {},
   "source": [
    "## use picca to compute the delta field"
   ]
  },
  {
   "cell_type": "markdown",
   "metadata": {},
   "source": [
    "generate the call defined by the directories above"
   ]
  },
  {
   "cell_type": "code",
   "execution_count": 203,
   "metadata": {},
   "outputs": [],
   "source": [
    "callstring_delta=('{call} --in-dir {indir} --drq {drq} --out-dir {outdir} --mode desi --delta-format Pk1D_ascii --rebin 1 --lambda-min 3650. --lambda-max 7200.0 '\n",
    "                  '--lambda-rest-min 1050.0 --lambda-rest-max 1180 --nproc 4 --order 0 --use-constant-weight'.format(\n",
    "                     call=piccadir/'bin/do_deltas.py', indir=indir.as_posix()+'/',drq=(outcatfile if usesubset else catfile).as_posix(),outdir=outdir_delta.as_posix()+'/'))"
   ]
  },
  {
   "cell_type": "code",
   "execution_count": 204,
   "metadata": {},
   "outputs": [],
   "source": [
    "#this is for testing with non-ascii intermediate formats\n",
    "#callstring_delta=('{call} --in-dir {indir} --drq {drq} --out-dir {outdir} --mode desi --delta-format Pk1D --rebin 1 --lambda-min 3650. --lambda-max 7200.0 '\n",
    "#                  '--lambda-rest-min 1050.0 --lambda-rest-max 1180 --nproc 4 --order 0 --use-constant-weight'.format(\n",
    "#                     call=piccadir/'bin/do_deltas.py', indir=indir.as_posix()+'/',drq=(outcatfile if usesubset else catfile).as_posix(),outdir=outdir_delta.as_posix()+'/'))"
   ]
  },
  {
   "cell_type": "code",
   "execution_count": 205,
   "metadata": {},
   "outputs": [
    {
     "data": {
      "text/plain": [
       "'/global/u1/m/mwalther/igmhub/picca/bin/do_deltas.py --in-dir /project/projectdirs/desi/mocks/lya_forest/london/v4.0.8/quick-2.0/spectra-16/ --drq /global/homes/m/mwalther/catalogues_small/london_v4.0.8_quick-2.0_zcat_desi_drq_reduced_rarange2_decrange2.fits --out-dir /global/homes/m/mwalther/res_ascii_subset_rarange2_decrange2/ --mode desi --delta-format Pk1D_ascii --rebin 1 --lambda-min 3650. --lambda-max 7200.0 --lambda-rest-min 1050.0 --lambda-rest-max 1180 --nproc 4 --order 0 --use-constant-weight'"
      ]
     },
     "execution_count": 205,
     "metadata": {},
     "output_type": "execute_result"
    }
   ],
   "source": [
    "callstring_delta"
   ]
  },
  {
   "cell_type": "markdown",
   "metadata": {},
   "source": [
    "---"
   ]
  },
  {
   "cell_type": "markdown",
   "metadata": {},
   "source": [
    "define an additional string to enable launching subprocesses in the right conda environment"
   ]
  },
  {
   "cell_type": "code",
   "execution_count": 206,
   "metadata": {},
   "outputs": [],
   "source": [
    "call_delta_full='{} {}\"'.format(activate_string,callstring_delta)"
   ]
  },
  {
   "cell_type": "markdown",
   "metadata": {},
   "source": [
    "use subprocess to actually run the call **do not execute this line unless you're willing to wait for minutes (for subsets) to hours (for full sample)**"
   ]
  },
  {
   "cell_type": "markdown",
   "metadata": {},
   "source": [
    "TODO: Instead of using subprocess directly maybe use %%sbatch to create a batch script submitted to the queue (this needs some package installations however)"
   ]
  },
  {
   "cell_type": "code",
   "execution_count": 207,
   "metadata": {},
   "outputs": [],
   "source": [
    "pr_delta=subprocess.run(args=call_delta_full,shell=True,check=True,capture_output=True)"
   ]
  },
  {
   "cell_type": "code",
   "execution_count": 208,
   "metadata": {},
   "outputs": [
    {
     "data": {
      "text/plain": [
       "b' zqso_min = 2.093220338983051\\n zqso_max = 5.857142857142857\\nmode: desi\\n\\n start               : nb object in cat = 848\\n and thid>0          : nb object in cat = 848\\n and ra!=dec         : nb object in cat = 848\\n and ra!=0.          : nb object in cat = 848\\n and dec!=0.         : nb object in cat = 848\\n and z>0.            : nb object in cat = 848\\n and z>zmin          : nb object in cat = 544\\n and z<zmax          : nb object in cat = 544\\nBAL_FLAG_VI not found\\n\\n\\nFound 544 qsos\\n\\rread 0 of 3. ndata: 0\\n\\rread 1 of 3. ndata: 75\\n\\rread 2 of 3. ndata: 166\\nfound 544 quasars in input files\\n\\niteration:  0\\ndone\\nINFO: using constant weights, skipping eta, var_lss, fudge fits\\niteration:  1\\ndone\\nINFO: using constant weights, skipping eta, var_lss, fudge fits\\niteration:  2\\ndone\\nINFO: using constant weights, skipping eta, var_lss, fudge fits\\niteration:  3\\ndone\\nINFO: using constant weights, skipping eta, var_lss, fudge fits\\niteration:  4\\ndone\\n'"
      ]
     },
     "execution_count": 208,
     "metadata": {},
     "output_type": "execute_result"
    }
   ],
   "source": [
    "pr_delta.stdout"
   ]
  },
  {
   "cell_type": "markdown",
   "metadata": {},
   "source": [
    "## Compute the power with picca"
   ]
  },
  {
   "cell_type": "code",
   "execution_count": 209,
   "metadata": {},
   "outputs": [],
   "source": [
    "callstring_Pk=('{call} --in-dir {indir} --in-format ascii --out-dir {outdir} --lambda-obs-min 3750. --noise-estimate pipeline --no-apply-filling'.format(\n",
    "                     call=piccadir/'bin/do_Pk1D.py', indir=outdir_delta.as_posix(),outdir=outdir_Pk.as_posix()))"
   ]
  },
  {
   "cell_type": "code",
   "execution_count": 211,
   "metadata": {},
   "outputs": [],
   "source": [
    "#this is for testing of non-ascii intermediate formats\n",
    "#callstring_Pk=('{call} --in-dir {indir} --in-format fits --out-dir {outdir} --lambda-obs-min 3750. --noise-estimate pipeline --no-apply-filling'.format(\n",
    "#                     call=piccadir/'bin/do_Pk1D.py', indir=outdir_delta.as_posix(),outdir=outdir_Pk.as_posix()))"
   ]
  },
  {
   "cell_type": "code",
   "execution_count": 212,
   "metadata": {},
   "outputs": [
    {
     "data": {
      "text/plain": [
       "'/global/u1/m/mwalther/igmhub/picca/bin/do_Pk1D.py --in-dir /global/homes/m/mwalther/res_ascii_subset_rarange2_decrange2 --in-format ascii --out-dir /global/homes/m/mwalther/Pk_fits_subset_rarange2_decrange2 --lambda-obs-min 3750. --noise-estimate pipeline --no-apply-filling'"
      ]
     },
     "execution_count": 212,
     "metadata": {},
     "output_type": "execute_result"
    }
   ],
   "source": [
    "callstring_Pk"
   ]
  },
  {
   "cell_type": "markdown",
   "metadata": {},
   "source": [
    "---"
   ]
  },
  {
   "cell_type": "markdown",
   "metadata": {},
   "source": [
    "define an additional string to enable launching subprocesses in the right conda environment"
   ]
  },
  {
   "cell_type": "code",
   "execution_count": 213,
   "metadata": {},
   "outputs": [],
   "source": [
    "call_Pk_full='{} {}\"'.format(activate_string,callstring_Pk)"
   ]
  },
  {
   "cell_type": "markdown",
   "metadata": {},
   "source": [
    "use subprocess to actually run the call **do not execute this line unless you're willing to wait for minutes (for subsets) to hours (for full sample)**"
   ]
  },
  {
   "cell_type": "code",
   "execution_count": 214,
   "metadata": {},
   "outputs": [],
   "source": [
    "pr_Pk=subprocess.run(args=call_Pk_full,shell=True,check=True,capture_output=True)"
   ]
  },
  {
   "cell_type": "code",
   "execution_count": 215,
   "metadata": {},
   "outputs": [
    {
     "data": {
      "text/plain": [
       "b'\\rread 0 of 3 0\\n ndata =   67\\n\\rread 1 of 3 67\\n ndata =   147\\n\\rread 2 of 3 147\\n ndata =   469\\nall done \\n'"
      ]
     },
     "execution_count": 215,
     "metadata": {},
     "output_type": "execute_result"
    }
   ],
   "source": [
    "pr_Pk.stdout"
   ]
  },
  {
   "cell_type": "markdown",
   "metadata": {},
   "source": [
    "## Then plot (this is just executing Christophe's routine atm, the next section has the plot created within this notebook)"
   ]
  },
  {
   "cell_type": "code",
   "execution_count": 216,
   "metadata": {},
   "outputs": [],
   "source": [
    "callstring_plot='{call} --in-dir {indir} --out-fig {outfile}'.format(call=piccadir/'bin/do_plot_pk1d.py',indir=outdir_Pk, outfile=outdir_Pk/'plot_pk1d.pdf')"
   ]
  },
  {
   "cell_type": "code",
   "execution_count": 217,
   "metadata": {},
   "outputs": [
    {
     "data": {
      "text/plain": [
       "'/global/u1/m/mwalther/igmhub/picca/bin/do_plot_pk1d.py --in-dir /global/homes/m/mwalther/Pk_fits_subset_rarange2_decrange2 --out-fig /global/homes/m/mwalther/Pk_fits_subset_rarange2_decrange2/plot_pk1d.pdf'"
      ]
     },
     "execution_count": 217,
     "metadata": {},
     "output_type": "execute_result"
    }
   ],
   "source": [
    "callstring_plot"
   ]
  },
  {
   "cell_type": "markdown",
   "metadata": {},
   "source": [
    "---"
   ]
  },
  {
   "cell_type": "markdown",
   "metadata": {},
   "source": [
    "define an additional string to enable launching subprocesses in the right conda environment"
   ]
  },
  {
   "cell_type": "code",
   "execution_count": 218,
   "metadata": {},
   "outputs": [],
   "source": [
    "call_plot_full='{} {}\"'.format(activate_string,callstring_plot)"
   ]
  },
  {
   "cell_type": "markdown",
   "metadata": {},
   "source": [
    "use subprocess to actually run the call **do not execute this line unless you're willing to wait for minutes (for subsets) to hours (for full sample)**"
   ]
  },
  {
   "cell_type": "code",
   "execution_count": 219,
   "metadata": {},
   "outputs": [],
   "source": [
    "pr_plot=subprocess.run(args=call_plot_full,shell=True,check=True,capture_output=True)"
   ]
  },
  {
   "cell_type": "code",
   "execution_count": 220,
   "metadata": {},
   "outputs": [
    {
     "data": {
      "text/plain": [
       "b'\\n ndata =   98\\n\\n ndata =   208\\n\\n ndata =   706\\nFigure(1600x800)\\nall done \\n'"
      ]
     },
     "execution_count": 220,
     "metadata": {},
     "output_type": "execute_result"
    }
   ],
   "source": [
    "pr_plot.stdout"
   ]
  },
  {
   "cell_type": "markdown",
   "metadata": {},
   "source": [
    "## Create the plot again from within this notebook"
   ]
  },
  {
   "cell_type": "markdown",
   "metadata": {},
   "source": [
    "arguments for the plot"
   ]
  },
  {
   "cell_type": "code",
   "execution_count": 221,
   "metadata": {},
   "outputs": [],
   "source": [
    "args={}\n",
    "args['reso_max']=85.\n",
    "args['SNR_min']=2.\n",
    "args['z_min']=2.1\n",
    "args['out_fig']=outdir_Pk/'plot_pk1d_notebook.pdf'"
   ]
  },
  {
   "cell_type": "markdown",
   "metadata": {},
   "source": [
    "settings for the plot"
   ]
  },
  {
   "cell_type": "code",
   "execution_count": 222,
   "metadata": {},
   "outputs": [],
   "source": [
    "figure_file = args['out_fig']\n",
    "\n",
    "zbins = [ 2.2, 2.4, 2.6, 2.8, 3.0, 3.2, 3.4, 3.6, 3.8, 4.0, 4.2, 4.4, 4.6]   #maybe this should come later and be np.linspace(2.2,4.6,nb_z_bin)\n",
    "colors = ['m', 'r', 'b', 'k', 'chartreuse', 'gold', 'aqua', 'slateblue', 'orange', 'mediumblue', 'darkgrey', 'olive', 'firebrick']\n",
    "s = 6\n",
    "fontt = 16\n",
    "fontlab = 10\n",
    "fontl =12"
   ]
  },
  {
   "cell_type": "markdown",
   "metadata": {},
   "source": [
    "set up the desired binning (as in the BOSS paper)"
   ]
  },
  {
   "cell_type": "code",
   "execution_count": 223,
   "metadata": {},
   "outputs": [],
   "source": [
    "nb_z_bin=13 #shouldn't this just be len(zbins)\n",
    "nb_k_bin=35\n",
    "k_inf=0.000813\n",
    "k_bin_dist=0.000542\n",
    "k_sup=k_inf + nb_k_bin*k_bin_dist"
   ]
  },
  {
   "cell_type": "markdown",
   "metadata": {},
   "source": [
    "generate arrays (maybe not all are needed in the end)"
   ]
  },
  {
   "cell_type": "code",
   "execution_count": 224,
   "metadata": {},
   "outputs": [],
   "source": [
    "sumPk = sp.zeros([nb_z_bin,nb_k_bin],dtype=sp.float64)\n",
    "sumPk2 = sp.zeros([nb_z_bin,nb_k_bin],dtype=sp.float64)\n",
    "sum = sp.zeros([nb_z_bin,nb_k_bin],dtype=sp.float64)\n",
    "ek = sp.zeros([nb_k_bin],dtype=sp.float64)\n",
    "k=k_inf + (np.arange(nb_k_bin)+0.5)*k_bin_dist\n",
    "\n",
    "#old version (checked that new gives the same answer)\n",
    "#k = sp.zeros([nb_k_bin],dtype=sp.float64)\n",
    "#for ik in range (nb_k_bin) :\n",
    "#    k[ik] = k_inf + (ik+0.5)*0.000542"
   ]
  },
  {
   "cell_type": "markdown",
   "metadata": {},
   "source": [
    "search for all P(k) files"
   ]
  },
  {
   "cell_type": "code",
   "execution_count": 225,
   "metadata": {},
   "outputs": [],
   "source": [
    "fi = glob.glob(\"{}/*.fits.gz\".format(outdir_Pk))"
   ]
  },
  {
   "cell_type": "markdown",
   "metadata": {},
   "source": [
    "initialize the data arrays"
   ]
  },
  {
   "cell_type": "code",
   "execution_count": 226,
   "metadata": {},
   "outputs": [],
   "source": [
    "data = {}\n",
    "ndata = 0"
   ]
  },
  {
   "cell_type": "markdown",
   "metadata": {},
   "source": [
    "loop over files"
   ]
  },
  {
   "cell_type": "code",
   "execution_count": 227,
   "metadata": {},
   "outputs": [
    {
     "name": "stderr",
     "output_type": "stream",
     "text": [
      "read 2 of 3 208"
     ]
    },
    {
     "name": "stdout",
     "output_type": "stream",
     "text": [
      "\n",
      " ndata =   98\n",
      "\n",
      " ndata =   208\n",
      "\n",
      " ndata =   706\n"
     ]
    }
   ],
   "source": [
    "for i,f in enumerate(fi):\n",
    "    if i%1==0:\n",
    "        sys.stderr.write(\"\\rread {} of {} {}\".format(i,len(fi),ndata))\n",
    "\n",
    "    # read fits files\n",
    "    hdus = fitsio.FITS(f)\n",
    "    pk1ds = [Pk1D.from_fitsio(h) for h in hdus[1:]]\n",
    "    ndata+=len(pk1ds)\n",
    "    print (\"\\n ndata =  \",ndata)\n",
    "\n",
    "    # loop over pk1ds\n",
    "    for pk in pk1ds:\n",
    "\n",
    "        # Selection over the SNR and the resolution\n",
    "        if (pk.mean_snr<=args['SNR_min'] or pk.mean_reso>=args['reso_max']) : continue\n",
    "\n",
    "        if(pk.mean_z<=args['z_min']) : continue\n",
    "\n",
    "        iz = int((pk.mean_z-args['z_min'])/0.2)\n",
    "        if(iz>=nb_z_bin or iz<0) : continue\n",
    "        for i in range (len(pk.k)) :\n",
    "            ik = int((pk.k[i]-k_inf)/(k_sup-k_inf)*nb_k_bin);\n",
    "            if(ik>= nb_k_bin or ik<0) : continue\n",
    "            Delta2 = pk.Pk[i]*pk.k[i]/sp.pi\n",
    "            sumPk[iz,ik] += Delta2\n",
    "            sumPk2[iz,ik] += Delta2**2\n",
    "            sum[iz,ik] += 1.0"
   ]
  },
  {
   "cell_type": "markdown",
   "metadata": {},
   "source": [
    "Compute means and errors"
   ]
  },
  {
   "cell_type": "code",
   "execution_count": 228,
   "metadata": {},
   "outputs": [
    {
     "name": "stderr",
     "output_type": "stream",
     "text": [
      "/global/homes/m/mwalther/.conda/envs/picca_plots/lib/python3.7/site-packages/ipykernel_launcher.py:1: RuntimeWarning: invalid value encountered in true_divide\n",
      "  \"\"\"Entry point for launching an IPython kernel.\n",
      "/global/homes/m/mwalther/.conda/envs/picca_plots/lib/python3.7/site-packages/ipykernel_launcher.py:2: RuntimeWarning: invalid value encountered in true_divide\n",
      "  \n"
     ]
    }
   ],
   "source": [
    "meanPk = sp.where(sum!=0,sumPk/sum,0.0)\n",
    "errorPk = sp.where(sum!=0,sp.sqrt(((sumPk2/sum)-meanPk**2)/sum),0.0)"
   ]
  },
  {
   "cell_type": "markdown",
   "metadata": {},
   "source": [
    "Do the actual plotting"
   ]
  },
  {
   "cell_type": "code",
   "execution_count": 229,
   "metadata": {},
   "outputs": [
    {
     "data": {
      "image/png": "[encoded data removed]",
      "text/plain": [
       "<Figure size 1152x576 with 1 Axes>"
      ]
     },
     "metadata": {
      "needs_background": "light"
     },
     "output_type": "display_data"
    }
   ],
   "source": [
    "fig = plt.figure(figsize = (16, 8))\n",
    "ax = fig.add_subplot(111)\n",
    "plt.yscale('log')\n",
    "\n",
    "for iz in range(nb_z_bin) :\n",
    "    z = 2.2 + iz*0.2\n",
    "    #ax.errorbar(k,meanPk[iz,:], yerr =errorPk[iz,:], fmt = 'o', color = colors[iz], markersize = s, label =r'\\bf {:1.1f} $\\displaystyle <$ z $\\displaystyle <$ {:1.1f}'.format(z-0.1,z+0.1))\n",
    "    ax.errorbar(k,meanPk[iz,:], yerr =errorPk[iz,:], fmt = 'o', color = colors[iz], markersize = s, label =r' z = {:1.1f}'.format(z))\n",
    "\n",
    "#ax.set_xlabel(r'\\bf $\\displaystyle k [km.s^{-1}]$', fontsize = fontt)\n",
    "ax.set_xlabel(r' k [km/s]', fontsize = fontt)\n",
    "#ax.set_ylabel(r'\\bf $\\displaystyle \\Delta^2_{\\mathrm{1d}}(k) $', fontsize=fontt, labelpad=-1)\n",
    "ax.set_ylabel(r'$\\Delta^2_{1d}$ ', fontsize=fontt, labelpad=-1)\n",
    "ax.xaxis.set_ticks_position('both')\n",
    "ax.xaxis.set_tick_params(direction='in')\n",
    "ax.yaxis.set_ticks_position('both')\n",
    "ax.yaxis.set_tick_params(direction='in')\n",
    "ax.xaxis.set_tick_params(labelsize=fontlab)\n",
    "ax.yaxis.set_tick_params(labelsize=fontlab)\n",
    "\n",
    "handles, labels = ax.get_legend_handles_labels()\n",
    "lgd = ax.legend(handles, labels, loc=2, bbox_to_anchor=(1.03, 0.98), borderaxespad=0.,fontsize = fontl)\n",
    "fig.subplots_adjust(top=0.98,bottom=0.114,left=0.078,right=0.758,hspace=0.2,wspace=0.2)\n",
    "\n",
    "fig.savefig(figure_file, transparent=False)"
   ]
  },
  {
   "cell_type": "code",
   "execution_count": null,
   "metadata": {},
   "outputs": [],
   "source": []
  },
  {
   "cell_type": "code",
   "execution_count": null,
   "metadata": {},
   "outputs": [],
   "source": []
  },
  {
   "cell_type": "code",
   "execution_count": null,
   "metadata": {},
   "outputs": [],
   "source": []
  }
 ],
 "metadata": {
  "kernelspec": {
   "display_name": "picca_plots",
   "language": "python",
   "name": "picca_plots"
  },
  "language_info": {
   "codemirror_mode": {
    "name": "ipython",
    "version": 3
   },
   "file_extension": ".py",
   "mimetype": "text/x-python",
   "name": "python",
   "nbconvert_exporter": "python",
   "pygments_lexer": "ipython3",
   "version": "3.7.0"
  }
 },
 "nbformat": 4,
 "nbformat_minor": 2
}
