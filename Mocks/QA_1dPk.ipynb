{
 "cells": [
  {
   "cell_type": "markdown",
   "metadata": {},
   "source": [
    "# This notebook is for tests of the 1D $P_{F} (k)$ concerning resolution and noise"
   ]
  },
  {
   "cell_type": "markdown",
   "metadata": {},
   "source": [
    "Please follow the **[this notebook](QA_plots.ipynb)** notebook for general remarks on how to set up the environment at NERSC, **maybe use [the developer edition of the notebook server](jupyter-dev.nersc.gov)** as this runs on a high-memory cori node (and should even allow generating batch jobs on arbitrary nodes from within the notebook) vs. some special thing in the standard version."
   ]
  },
  {
   "cell_type": "markdown",
   "metadata": {},
   "source": [
    "## imports"
   ]
  },
  {
   "cell_type": "code",
   "execution_count": 5,
   "metadata": {},
   "outputs": [],
   "source": [
    "from pathlib import Path\n",
    "import picca\n",
    "import subprocess\n",
    "import numpy as np\n",
    "import matplotlib.pyplot as plt\n",
    "from astropy.io import fits\n",
    "%matplotlib inline"
   ]
  },
  {
   "cell_type": "markdown",
   "metadata": {},
   "source": [
    "## set flags and variables"
   ]
  },
  {
   "cell_type": "markdown",
   "metadata": {},
   "source": [
    "Stuff needed if only a subset of the full catalogue should be used (to speed things up for debugging)"
   ]
  },
  {
   "cell_type": "code",
   "execution_count": 41,
   "metadata": {},
   "outputs": [],
   "source": [
    "usesubset=True     #should a subset of the full catalogue be used (note that everything takes hours if this is set to False)\n",
    "rarange=2          #range in ra for subset\n",
    "decrange=2         #range in dec for subset"
   ]
  },
  {
   "cell_type": "markdown",
   "metadata": {},
   "source": [
    "Definition of variables needed to define the mocks"
   ]
  },
  {
   "cell_type": "code",
   "execution_count": 42,
   "metadata": {},
   "outputs": [],
   "source": [
    "mock_base = '/project/projectdirs/desi/mocks/lya_forest/london/v4.0.8/'\n",
    "quick_ver = 'quick-2.0'"
   ]
  },
  {
   "cell_type": "markdown",
   "metadata": {},
   "source": [
    "## File/Directory names"
   ]
  },
  {
   "cell_type": "markdown",
   "metadata": {},
   "source": [
    "Picca installation path and a string to activate the environment for subprocesses"
   ]
  },
  {
   "cell_type": "code",
   "execution_count": 43,
   "metadata": {},
   "outputs": [],
   "source": [
    "piccadir=Path('/'+'/'.join(Path(picca.__file__).parts[1:-3])+'/')\n",
    "activate_string='bash -c \"source activate picca_plots;'"
   ]
  },
  {
   "cell_type": "markdown",
   "metadata": {},
   "source": [
    "Catalogue file for the full catalogue"
   ]
  },
  {
   "cell_type": "code",
   "execution_count": 44,
   "metadata": {},
   "outputs": [],
   "source": [
    "catfile=Path('{}/{}/zcat_desi_drq.fits'.format(mock_base,quick_ver))"
   ]
  },
  {
   "cell_type": "markdown",
   "metadata": {},
   "source": [
    "Mock files"
   ]
  },
  {
   "cell_type": "code",
   "execution_count": 45,
   "metadata": {},
   "outputs": [],
   "source": [
    "indir=Path('{}/{}/spectra-16/'.format(mock_base,quick_ver))"
   ]
  },
  {
   "cell_type": "markdown",
   "metadata": {},
   "source": [
    "Output directories/files for the subset of mocks, the delta fields and Pk"
   ]
  },
  {
   "cell_type": "code",
   "execution_count": 46,
   "metadata": {},
   "outputs": [],
   "source": [
    "outcatfile=Path.home()/'catalogues_small/'/('_'.join(catfile.parts[-4:])[:-5]+'_reduced_rarange{}_decrange{}.fits'.format(rarange,decrange))\n",
    "outdir_delta=Path.home()/'res_ascii{}/'.format('_subset_rarange{}_decrange{}' if usesubset else '')\n",
    "outdir_Pk=Path.home()/'Pk_fits{}/'.format('_subset_rarange{}_decrange{}' if usesubset else '')"
   ]
  },
  {
   "cell_type": "markdown",
   "metadata": {},
   "source": [
    "Check that output dirs exist (else create)"
   ]
  },
  {
   "cell_type": "code",
   "execution_count": 47,
   "metadata": {},
   "outputs": [],
   "source": [
    "if usesubset and not outcatfile.parent.exists():\n",
    "    Path.mkdir(outcatfile.parent,parents=True)\n",
    "if not outdir_Pk.exists():\n",
    "    Path.mkdir(outdir_Pk,parents=True)\n",
    "if not outdir_delta.exists():\n",
    "    Path.mkdir(outdir_delta,parents=True)"
   ]
  },
  {
   "cell_type": "markdown",
   "metadata": {},
   "source": [
    "## Create a subset of the mock catalogue"
   ]
  },
  {
   "cell_type": "markdown",
   "metadata": {},
   "source": [
    "open the mock catalogue"
   ]
  },
  {
   "cell_type": "code",
   "execution_count": 48,
   "metadata": {},
   "outputs": [],
   "source": [
    "cat=fits.open(catfile)\n",
    "dec=cat[1].data['DEC']\n",
    "ra=cat[1].data['RA']"
   ]
  },
  {
   "cell_type": "markdown",
   "metadata": {},
   "source": [
    "define some range to use"
   ]
  },
  {
   "cell_type": "code",
   "execution_count": 49,
   "metadata": {},
   "outputs": [],
   "source": [
    "select=(np.abs(dec-40)<decrange)&(np.abs(ra-180)<rarange)"
   ]
  },
  {
   "cell_type": "markdown",
   "metadata": {},
   "source": [
    "slice the catalogue"
   ]
  },
  {
   "cell_type": "code",
   "execution_count": 50,
   "metadata": {},
   "outputs": [],
   "source": [
    "if usesubset:\n",
    "    cat[1].data=cat[1].data[select]"
   ]
  },
  {
   "cell_type": "markdown",
   "metadata": {},
   "source": [
    "write to a file"
   ]
  },
  {
   "cell_type": "code",
   "execution_count": 51,
   "metadata": {},
   "outputs": [
    {
     "name": "stdout",
     "output_type": "stream",
     "text": [
      "File exists, using existing file\n"
     ]
    }
   ],
   "source": [
    "if usesubset:\n",
    "    try:\n",
    "        cat.writeto(outcatfile)\n",
    "    except OSError:\n",
    "        print('File exists, using existing file')"
   ]
  },
  {
   "cell_type": "markdown",
   "metadata": {},
   "source": [
    "## use picca to compute the delta field"
   ]
  },
  {
   "cell_type": "markdown",
   "metadata": {},
   "source": [
    "generate the call defined by the directories above"
   ]
  },
  {
   "cell_type": "code",
   "execution_count": 52,
   "metadata": {},
   "outputs": [],
   "source": [
    "callstring_delta=('{call} --in-dir {indir} --drq {drq} --out-dir {outdir} --mode desi --delta-format Pk1D_ascii --rebin 1 --lambda-min 3650. --lambda-max 7200.0 '\n",
    "                  '--lambda-rest-min 1050.0 --lambda-rest-max 1180 --nproc 4 --order 0 --use-constant-weight'.format(\n",
    "                     call=piccadir/'bin/do_deltas.py', indir=indir.as_posix()+'/',drq=(outcatfile if usesubset else catfile).as_posix(),outdir=outdir_delta.as_posix()+'/'))"
   ]
  },
  {
   "cell_type": "code",
   "execution_count": 53,
   "metadata": {},
   "outputs": [
    {
     "data": {
      "text/plain": [
       "'/global/u1/m/mwalther/igmhub/picca/bin/do_deltas.py --in-dir /project/projectdirs/desi/mocks/lya_forest/london/v4.0.8/quick-2.0/spectra-16/ --drq /global/homes/m/mwalther/catalogues_small/london_v4.0.8_quick-2.0_zcat_desi_drq_reduced_rarange2_decrange2.fits --out-dir /global/homes/m/mwalther/res_ascii_subset_rarange{}_decrange{}/ --mode desi --delta-format Pk1D_ascii --rebin 1 --lambda-min 3650. --lambda-max 7200.0 --lambda-rest-min 1050.0 --lambda-rest-max 1180 --nproc 4 --order 0 --use-constant-weight'"
      ]
     },
     "execution_count": 53,
     "metadata": {},
     "output_type": "execute_result"
    }
   ],
   "source": [
    "callstring_delta"
   ]
  },
  {
   "cell_type": "markdown",
   "metadata": {},
   "source": [
    "---"
   ]
  },
  {
   "cell_type": "markdown",
   "metadata": {},
   "source": [
    "define an additional string to enable launching subprocesses in the right conda environment"
   ]
  },
  {
   "cell_type": "code",
   "execution_count": 54,
   "metadata": {},
   "outputs": [],
   "source": [
    "call_delta_full='{} {}\"'.format(activate_string,callstring_delta)"
   ]
  },
  {
   "cell_type": "markdown",
   "metadata": {},
   "source": [
    "use subprocess to actually run the call **do not execute this line unless you're willing to wait for minutes (for subsets) to hours (for full sample)**"
   ]
  },
  {
   "cell_type": "markdown",
   "metadata": {},
   "source": [
    "TODO: Instead of using subprocess directly maybe use %%sbatch to create a batch script submitted to the queue (this needs some package installations however)"
   ]
  },
  {
   "cell_type": "code",
   "execution_count": 55,
   "metadata": {},
   "outputs": [],
   "source": [
    "pr_delta=subprocess.run(args=call_delta_full,shell=True,check=True,capture_output=True)"
   ]
  },
  {
   "cell_type": "code",
   "execution_count": 56,
   "metadata": {},
   "outputs": [
    {
     "data": {
      "text/plain": [
       "b' zqso_min = 2.093220338983051\\n zqso_max = 5.857142857142857\\nmode: desi\\n\\n start               : nb object in cat = 848\\n and thid>0          : nb object in cat = 848\\n and ra!=dec         : nb object in cat = 848\\n and ra!=0.          : nb object in cat = 848\\n and dec!=0.         : nb object in cat = 848\\n and z>0.            : nb object in cat = 848\\n and z>zmin          : nb object in cat = 544\\n and z<zmax          : nb object in cat = 544\\nBAL_FLAG_VI not found\\n\\n\\nFound 544 qsos\\n\\rread 0 of 3. ndata: 0\\n\\rread 1 of 3. ndata: 75\\n\\rread 2 of 3. ndata: 166\\nfound 544 quasars in input files\\n\\niteration:  0\\ndone\\nINFO: using constant weights, skipping eta, var_lss, fudge fits\\niteration:  1\\ndone\\nINFO: using constant weights, skipping eta, var_lss, fudge fits\\niteration:  2\\ndone\\nINFO: using constant weights, skipping eta, var_lss, fudge fits\\niteration:  3\\ndone\\nINFO: using constant weights, skipping eta, var_lss, fudge fits\\niteration:  4\\ndone\\n'"
      ]
     },
     "execution_count": 56,
     "metadata": {},
     "output_type": "execute_result"
    }
   ],
   "source": [
    "pr_delta.stdout"
   ]
  },
  {
   "cell_type": "markdown",
   "metadata": {},
   "source": [
    "## Compute the power with picca"
   ]
  },
  {
   "cell_type": "code",
   "execution_count": 57,
   "metadata": {},
   "outputs": [],
   "source": [
    "callstring_Pk=('{call} --in-dir {indir} --in-format ascii --out-dir {outdir} --lambda-obs-min 3750. --noise-estimate pipeline --no-apply-filling'.format(\n",
    "                     call=piccadir/'bin/do_Pk1D.py', indir=outdir_delta.as_posix(),outdir=outdir_Pk.as_posix()))"
   ]
  },
  {
   "cell_type": "code",
   "execution_count": 58,
   "metadata": {},
   "outputs": [
    {
     "data": {
      "text/plain": [
       "'/global/u1/m/mwalther/igmhub/picca/bin/do_Pk1D.py --in-dir /global/homes/m/mwalther/res_ascii_subset_rarange{}_decrange{} --in-format ascii --out-dir /global/homes/m/mwalther/Pk_fits_subset_rarange{}_decrange{} --lambda-obs-min 3750. --noise-estimate pipeline --no-apply-filling'"
      ]
     },
     "execution_count": 58,
     "metadata": {},
     "output_type": "execute_result"
    }
   ],
   "source": [
    "callstring_Pk"
   ]
  },
  {
   "cell_type": "markdown",
   "metadata": {},
   "source": [
    "---"
   ]
  },
  {
   "cell_type": "markdown",
   "metadata": {},
   "source": [
    "define an additional string to enable launching subprocesses in the right conda environment"
   ]
  },
  {
   "cell_type": "code",
   "execution_count": 59,
   "metadata": {},
   "outputs": [],
   "source": [
    "call_Pk_full='{} {}\"'.format(activate_string,callstring_Pk)"
   ]
  },
  {
   "cell_type": "markdown",
   "metadata": {},
   "source": [
    "use subprocess to actually run the call **do not execute this line unless you're willing to wait for minutes (for subsets) to hours (for full sample)**"
   ]
  },
  {
   "cell_type": "code",
   "execution_count": 60,
   "metadata": {},
   "outputs": [],
   "source": [
    "pr_Pk=subprocess.run(args=call_Pk_full,shell=True,check=True,capture_output=True)"
   ]
  },
  {
   "cell_type": "code",
   "execution_count": 61,
   "metadata": {},
   "outputs": [
    {
     "data": {
      "text/plain": [
       "b'\\rread 0 of 3 0\\n ndata =   67\\n\\rread 1 of 3 67\\n ndata =   147\\n\\rread 2 of 3 147\\n ndata =   469\\nall done \\n'"
      ]
     },
     "execution_count": 61,
     "metadata": {},
     "output_type": "execute_result"
    }
   ],
   "source": [
    "pr_Pk.stdout"
   ]
  },
  {
   "cell_type": "markdown",
   "metadata": {},
   "source": [
    "## Then plot"
   ]
  },
  {
   "cell_type": "code",
   "execution_count": 62,
   "metadata": {},
   "outputs": [],
   "source": [
    "callstring_plot='{call} --in-dir {indir} --out-fig {outfile}'.format(call=piccadir/'bin/do_plot_pk1d.py',indir=outdir_Pk, outfile=outdir_Pk/'plot_pk1d.pdf')"
   ]
  },
  {
   "cell_type": "code",
   "execution_count": 63,
   "metadata": {},
   "outputs": [
    {
     "data": {
      "text/plain": [
       "'/global/u1/m/mwalther/igmhub/picca/bin/do_plot_pk1d.py --in-dir /global/homes/m/mwalther/Pk_fits_subset_rarange{}_decrange{} --out-fig /global/homes/m/mwalther/Pk_fits_subset_rarange{}_decrange{}/plot_pk1d.pdf'"
      ]
     },
     "execution_count": 63,
     "metadata": {},
     "output_type": "execute_result"
    }
   ],
   "source": [
    "callstring_plot"
   ]
  },
  {
   "cell_type": "markdown",
   "metadata": {},
   "source": [
    "---"
   ]
  },
  {
   "cell_type": "markdown",
   "metadata": {},
   "source": [
    "define an additional string to enable launching subprocesses in the right conda environment"
   ]
  },
  {
   "cell_type": "code",
   "execution_count": 64,
   "metadata": {},
   "outputs": [],
   "source": [
    "call_plot_full='{} {}\"'.format(activate_string,callstring_plot)"
   ]
  },
  {
   "cell_type": "markdown",
   "metadata": {},
   "source": [
    "use subprocess to actually run the call **do not execute this line unless you're willing to wait for minutes (for subsets) to hours (for full sample)**"
   ]
  },
  {
   "cell_type": "code",
   "execution_count": 65,
   "metadata": {},
   "outputs": [],
   "source": [
    "pr_plot=subprocess.run(args=call_plot_full,shell=True,check=True,capture_output=True)"
   ]
  },
  {
   "cell_type": "code",
   "execution_count": 66,
   "metadata": {},
   "outputs": [
    {
     "data": {
      "text/plain": [
       "b'\\n ndata =   98\\n\\n ndata =   208\\n\\n ndata =   706\\nFigure(1600x800)\\nall done \\n'"
      ]
     },
     "execution_count": 66,
     "metadata": {},
     "output_type": "execute_result"
    }
   ],
   "source": [
    "pr_plot.stdout"
   ]
  },
  {
   "cell_type": "code",
   "execution_count": null,
   "metadata": {},
   "outputs": [],
   "source": []
  }
 ],
 "metadata": {
  "kernelspec": {
   "display_name": "picca_plots",
   "language": "python",
   "name": "picca_plots"
  },
  "language_info": {
   "codemirror_mode": {
    "name": "ipython",
    "version": 3
   },
   "file_extension": ".py",
   "mimetype": "text/x-python",
   "name": "python",
   "nbconvert_exporter": "python",
   "pygments_lexer": "ipython3",
   "version": "3.7.0"
  }
 },
 "nbformat": 4,
 "nbformat_minor": 2
}
